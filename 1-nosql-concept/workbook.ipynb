{
 "cells": [
  {
   "cell_type": "markdown",
   "metadata": {},
   "source": [
    "# Introduction to NoSQL: Concepts\n",
    "\n",
    "## A brief history of database\n",
    "\n",
    "What's a database?\n",
    "\n",
    "> _database_ is an organized collection of data -- [wikipedia](https://en.wikipedia.org/wiki/Database)\n",
    "\n",
    "In this definition, a book is a database, in physical form, and one of the earliest examples of a database. The book is organized in a way that allows you to find information quickly.\n",
    "\n",
    "\n",
    "![Punch card and 1890 census](https://upload.wikimedia.org/wikipedia/commons/7/7c/1890_Census_Hollerith_Electrical_Counting_Machines_Sci_Amer.jpg)\n",
    "\n",
    "> The Hollerith machine and the punch card system was one of the first examples of a digital/mechanical database. The machine was used to process the 1890 US Census, which was the first census to be conducted using a mechanical counting system. The punch card system allowed for the storage and retrieval of census data using mechanical counting machines.\n"
   ]
  },
  {
   "cell_type": "markdown",
   "metadata": {
    "vscode": {
     "languageId": "plaintext"
    }
   },
   "source": [
    "The evolution of databases has been driven by the application demand and the storage media. \n",
    "\n",
    "```mermaid\n",
    "timeline\n",
    "    title Database Innovations Driven by Storage Eras\n",
    "\n",
    "    section Pre-relational (~1950s-1960s)\n",
    "        Magnetic Disk : 1968 Hierarchical model (IBM IMS)\n",
    "               : 1969 Network model (CODASYL).\n",
    "\n",
    "    section Relational (~1970s-Now)\n",
    "        Codd's Relational Model : 1974 IBM System R \n",
    "        : 1978 Oracle\n",
    "        : 1980 Ingres\n",
    "        : 1986 official SQL standard\n",
    "        : 1989 Postgres\n",
    "        : 1995 MySQL\n",
    "\n",
    "    section Next Generation (~Late 2000s-Now)\n",
    "        Object Programming & Cloud : 2005 MapReduce\n",
    "        : 2007 Neo4j\n",
    "        : 2009 MongoDB\n",
    "```\n"
   ]
  },
  {
   "cell_type": "markdown",
   "metadata": {
    "vscode": {
     "languageId": "plaintext"
    }
   },
   "source": [
    "### pre-relational database\n",
    "\n",
    "The emergence of the magnetic disk enabled the infrastructure of a database:\n",
    "- You could now seek directly to a particular sector or block.\n",
    "- This made random access feasible and efficient.\n",
    "- It allowed databases to scale in complexity without sacrificing access speed.\n",
    "\n",
    "Two dominant models emerged:\n",
    "- Hierarchical model (IBM IMS)\n",
    "- Network model (CODASYL)\n",
    "\n",
    "Both models are \"navigational\" in nature, that is, you must navigate from one object to another using **explicitly defined** pointers.\n",
    "\n",
    "```mermaid\n",
    "---\n",
    "title : Hierarchical model & Network model\n",
    "---\n",
    "graph TD\n",
    "  subgraph Hierarchical model\n",
    "    PROJ1[Project: RNA Folding] --> LEAD1[Lead: Alice]\n",
    "    LEAD1 --> DEPT1[Department: CAB]\n",
    "    LEAD1 --> EMAIL1[Email: alice@stjude.org]\n",
    "    PROJ1 --> STOR1[Storage: /research/groups/alicegrp/projects/]\n",
    "    STOR1 --> SIZE1[Size: 5.2 TB]\n",
    "  end\n",
    "\n",
    "  subgraph Network model\n",
    "    PROJ2[Project: RNA Folding] --> LEAD2[Lead: Alice]\n",
    "    STOR2[Storage: /research/groups/alicegrp/projects/] --> LEAD2\n",
    "\n",
    "    LEAD2 --> DEPT2[Department: CAB]\n",
    "    LEAD2 --> EMAIL2[Email: alice@stjude.org]\n",
    "    STOR2 --> SIZE2[Size: 5.2 TB]\n",
    "  end\n",
    "```\n",
    "\n",
    "The data schema was fixed in the pre-relational era."
   ]
  },
  {
   "cell_type": "markdown",
   "metadata": {},
   "source": []
  }
 ],
 "metadata": {
  "language_info": {
   "name": "python"
  }
 },
 "nbformat": 4,
 "nbformat_minor": 2
}
