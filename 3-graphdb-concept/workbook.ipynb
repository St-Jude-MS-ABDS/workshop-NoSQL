{
 "cells": [
  {
   "cell_type": "code",
   "execution_count": 1,
   "id": "bd8b9f9e",
   "metadata": {},
   "outputs": [
    {
     "name": "stdout",
     "output_type": "stream",
     "text": [
      "If you have values in .env they will be used as defaults. You may press Enter to accept the default.\n",
      "Configuration set. Do not share passwords in public notebooks.\n"
     ]
    }
   ],
   "source": [
    "# Neo4j connection configuration\n",
    "# This cell reads values from a local .env (if present) but allows students to override them interactively.\n",
    "import os\n",
    "from dotenv import load_dotenv\n",
    "import getpass\n",
    "\n",
    "load_dotenv()  # optional: reads neo4j connection info from .env into environment variables\n",
    "# Default values read from environment (if set)\n",
    "default_uri = os.getenv('NEO4J_URI', '')\n",
    "default_user = os.getenv('NEO4J_USERNAME', '')\n",
    "default_pass = os.getenv('NEO4J_PASSWORD', '')\n",
    "\n",
    "print('If you have values in .env they will be used as defaults. You may press Enter to accept the default.')\n",
    "uri = default_uri or input(f'Neo4j URI [{default_uri}]: ')\n",
    "user = default_user or input(f'Username [{default_user}]: ')\n",
    "# use getpass for interactive password entry (safer than plain input)\n",
    "pw_prompt = 'Password (leave empty to use value from .env): '\n",
    "password = default_pass or getpass.getpass(pw_prompt)\n",
    "\n",
    "# Save into variables used by the rest of the notebook\n",
    "NEO4J_URI = uri\n",
    "NEO4J_USER = user\n",
    "NEO4J_PASS = password\n",
    "\n",
    "print('Configuration set. Do not share passwords in public notebooks.')"
   ]
  },
  {
   "cell_type": "markdown",
   "id": "0e5e9b11",
   "metadata": {},
   "source": [
    "# Neo4j basics — workshop\n",
    "\n",
    "Welcome! This short workshop walks through basic Neo4j concepts and gives hands-on practice with nodes, relationships, queries, and simple modeling.\n",
    "\n",
    "Goals:\n",
    "- Connect to a Neo4j database from Python.\n",
    "- Create simple nodes and relationships.\n",
    "- Run basic Cypher queries (MATCH, RETURN, aggregation).\n",
    "- Create an index/constraint and clean up sample data.\n",
    "\n",
    "Important: the connection values you entered in the previous cell will be used. If your environment also has a `.env` file, the values were used as defaults."
   ]
  },
  {
   "cell_type": "code",
   "execution_count": 2,
   "id": "7b0f38ec",
   "metadata": {},
   "outputs": [
    {
     "ename": "ImportError",
     "evalue": "cannot import name 'GraphViz' from 'neo4j_viz' (/Users/zziang/Documents/projects/abds_nosql_course/.venv/lib/python3.13/site-packages/neo4j_viz/__init__.py)",
     "output_type": "error",
     "traceback": [
      "\u001b[31m---------------------------------------------------------------------------\u001b[39m",
      "\u001b[31mImportError\u001b[39m                               Traceback (most recent call last)",
      "\u001b[36mCell\u001b[39m\u001b[36m \u001b[39m\u001b[32mIn[2]\u001b[39m\u001b[32m, line 3\u001b[39m\n\u001b[32m      1\u001b[39m \u001b[38;5;66;03m# Test connection and show server info\u001b[39;00m\n\u001b[32m      2\u001b[39m \u001b[38;5;28;01mfrom\u001b[39;00m\u001b[38;5;250m \u001b[39m\u001b[34;01mneo4j\u001b[39;00m\u001b[38;5;250m \u001b[39m\u001b[38;5;28;01mimport\u001b[39;00m GraphDatabase\n\u001b[32m----> \u001b[39m\u001b[32m3\u001b[39m \u001b[38;5;28;01mfrom\u001b[39;00m\u001b[38;5;250m \u001b[39m\u001b[34;01mneo4j_viz\u001b[39;00m\u001b[38;5;250m \u001b[39m\u001b[38;5;28;01mimport\u001b[39;00m GraphViz\n\u001b[32m      5\u001b[39m \u001b[38;5;28;01mdef\u001b[39;00m\u001b[38;5;250m \u001b[39m\u001b[34mtest_connection\u001b[39m(uri, user, password):\n\u001b[32m      6\u001b[39m     driver = GraphDatabase.driver(uri, auth=(user, password))\n",
      "\u001b[31mImportError\u001b[39m: cannot import name 'GraphViz' from 'neo4j_viz' (/Users/zziang/Documents/projects/abds_nosql_course/.venv/lib/python3.13/site-packages/neo4j_viz/__init__.py)"
     ]
    }
   ],
   "source": [
    "# Test connection and show server info\n",
    "from neo4j import GraphDatabase\n",
    "from neo4j_viz import GraphViz\n",
    "\n",
    "def test_connection(uri, user, password):\n",
    "    driver = GraphDatabase.driver(uri, auth=(user, password))\n",
    "    try:\n",
    "        with driver.session() as session:\n",
    "            try:\n",
    "                comp = list(session.run(\n",
    "                    \"CALL dbms.components() YIELD name, versions, edition RETURN name, versions, edition\"\n",
    "                ))\n",
    "                print('dbms.components():')\n",
    "                for r in comp:\n",
    "                    print('-', r.data())\n",
    "            except Exception as e:\n",
    "                print('Could not call dbms.components():', e)\n",
    "            # Try SHOW DATABASES in case the server supports multiple DBs\n",
    "            try:\n",
    "                dbs = list(session.run(\"SHOW DATABASES\"))\n",
    "                print('SHOW DATABASES: found', len(dbs))\n",
    "            except Exception as e:\n",
    "                print('SHOW DATABASES not available or no privileges:', e)\n",
    "    finally:\n",
    "        driver.close()\n",
    "\n",
    "# Run test (uses variables set in the first cell)\n",
    "print('Testing connection to', NEO4J_URI)\n",
    "test_connection(NEO4J_URI, NEO4J_USER, NEO4J_PASS)"
   ]
  },
  {
   "cell_type": "code",
   "execution_count": 5,
   "id": "64b51728",
   "metadata": {},
   "outputs": [
    {
     "name": "stdout",
     "output_type": "stream",
     "text": [
      "Query executed in 1 ms, \n",
      "Total nodes: 47034\n",
      "Query executed in 17 ms, \n",
      "Total relationships: 409059\n"
     ]
    }
   ],
   "source": [
    "# Basic Neo4j statistics: total nodes, total relationships, top labels and relationship types\n",
    "from neo4j import GraphDatabase\n",
    "from neo4j_viz.neo4j import from_neo4j\n",
    "\n",
    "driver = GraphDatabase.driver(NEO4J_URI, auth=(NEO4J_USER, NEO4J_PASS))\n",
    "def run_query(query):\n",
    "    with driver.session() as session:\n",
    "        result = session.run(query)\n",
    "        record = result.single()\n",
    "        value = record.value() if record else None\n",
    "        summary = result.consume()\n",
    "        print(f\"Query executed in {summary.result_available_after} ms, \")\n",
    "        return value\n",
    "\n",
    "\n",
    "# get total nodes and relationships\n",
    "result = run_query(\"MATCH (n) RETURN count(n) AS cnt\")\n",
    "print(\"Total nodes:\", result)\n",
    "\n",
    "result = run_query(\"MATCH ()-[r]->() RETURN count(r) AS cnt\")\n",
    "print(\"Total relationships:\", result)\n"
   ]
  },
  {
   "cell_type": "markdown",
   "id": "da6a0125",
   "metadata": {},
   "source": [
    "### Exercise 1 (first task) — Build your node\n",
    "\n",
    "We design a graph model to describe this lecture\n",
    "\n",
    "```mermaid\n",
    "---\n",
    "title: The course\n",
    "---\n",
    "erDiagram\n",
    "    MeetingRoom {\n",
    "      id MP163\n",
    "      building ARC\n",
    "      floor plaza\n",
    "    }\n",
    "    Lecture {\n",
    "      program ABDS\n",
    "      series DataWrangling\n",
    "      index n26\n",
    "    }\n",
    "    MeetingRoom ||--o{ Lecture: HOSTS\n",
    "    Lecturer {\n",
    "        uid zziang\n",
    "        dept InformationService\n",
    "    }\n",
    "    Lecturer ||--o{ Lecture: GIVES\n",
    "```"
   ]
  },
  {
   "cell_type": "code",
   "execution_count": null,
   "id": "420c1229",
   "metadata": {},
   "outputs": [],
   "source": [
    "lecture_query = ('MATCH (n)-[r:Lecture]->(m) '\n",
    "                 'RETURN n, r, m LIMIT 200')\n",
    "driver = GraphDatabase.driver(NEO4J_URI, auth=(NEO4J_USER, NEO4J_PASS))\n",
    "viz = GraphViz(driver)\n",
    "drv = GraphDatabase.driver(NEO4J_URI, auth=(NEO4J_USER, NEO4J_PASS))\n",
    "nodes = {}\n",
    "rels = []\n",
    "with drv.session() as session:\n",
    "    try:\n",
    "        res = session.run(q)\n",
    "    except Exception as e:\n",
    "        print('Query failed:', e)\n",
    "        raise\n",
    "    for rec in res:\n",
    "        d = rec.data()\n",
    "        # add source node\n",
    "        nid = d.get('n_id')\n",
    "        if nid is not None and nid not in nodes:\n",
    "            nodes[nid] = {'id': nid, 'labels': d.get('n_labels') or [], 'props': d.get('n_props') or {}}\n",
    "        # add target node\n",
    "        mid = d.get('m_id')\n",
    "        if mid is not None and mid not in nodes:\n",
    "            nodes[mid] = {'id': mid, 'labels': d.get('m_labels') or [], 'props': d.get('m_props') or {}}\n",
    "        # add relationship\n",
    "        rid = d.get('r_id')\n",
    "        if rid is not None:\n",
    "            rels.append({'id': rid, 'src': nid, 'tgt': mid, 'type': d.get('r_type'), 'props': d.get('r_props') or {}})\n",
    "\n",
    "nodes_list = list(nodes.values())\n",
    "print(f'Prepared {len(nodes_list)} nodes and {len(rels)} relationships for visualization')\n",
    "\n",
    "# Try neo4j_viz first\n",
    "try:\n",
    "    nv = importlib.import_module('neo4j_viz')\n",
    "    if hasattr(nv, 'draw'):\n",
    "        nv.draw(nodes_list, rels)\n",
    "    elif hasattr(nv, 'viz'):\n",
    "        nv.viz(nodes_list, rels)\n",
    "    else:\n",
    "        raise ImportError('neo4j_viz missing known entrypoint')\n",
    "except Exception as e:\n",
    "    print('neo4j_viz not available or failed:', e)\n",
    "    print('Falling back to networkx visualization')\n",
    "    try:\n",
    "        import networkx as nx\n",
    "        import matplotlib.pyplot as plt\n",
    "        G = nx.DiGraph()\n",
    "        for n in nodes_list:\n",
    "            label = n['props'].get('name') or (n['labels'][0] if n['labels'] else str(n['id']))\n",
    "            G.add_node(n['id'], label=label)\n",
    "        for r in rels:\n",
    "            G.add_edge(r['src'], r['tgt'], label=r.get('type'))\n",
    "        pos = nx.spring_layout(G)\n",
    "        plt.figure(figsize=(8,8))\n",
    "        nx.draw(G, pos, with_labels=True, labels=nx.get_node_attributes(G, 'label'), node_size=700, node_color='lightgreen')\n",
    "        edge_labels = nx.get_edge_attributes(G, 'label')\n",
    "        nx.draw_networkx_edge_labels(G, pos, edge_labels=edge_labels)\n",
    "        plt.show()\n",
    "    except Exception as ex:\n",
    "        print('Networkx fallback failed:', ex)\n",
    "\n",
    "drv.close()"
   ]
  },
  {
   "cell_type": "code",
   "execution_count": null,
   "id": "eab542ef",
   "metadata": {},
   "outputs": [],
   "source": []
  }
 ],
 "metadata": {
  "kernelspec": {
   "display_name": ".venv",
   "language": "python",
   "name": "python3"
  },
  "language_info": {
   "codemirror_mode": {
    "name": "ipython",
    "version": 3
   },
   "file_extension": ".py",
   "mimetype": "text/x-python",
   "name": "python",
   "nbconvert_exporter": "python",
   "pygments_lexer": "ipython3",
   "version": "3.13.5"
  }
 },
 "nbformat": 4,
 "nbformat_minor": 5
}
